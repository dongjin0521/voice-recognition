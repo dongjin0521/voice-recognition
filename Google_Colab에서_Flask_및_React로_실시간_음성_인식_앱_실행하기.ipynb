{
  "nbformat": 4,
  "nbformat_minor": 0,
  "metadata": {
    "colab": {
      "provenance": [],
      "authorship_tag": "ABX9TyMo2n3WFLP8tkF/Xm3XxC4F",
      "include_colab_link": true
    },
    "kernelspec": {
      "name": "python3",
      "display_name": "Python 3"
    },
    "language_info": {
      "name": "python"
    }
  },
  "cells": [
    {
      "cell_type": "markdown",
      "metadata": {
        "id": "view-in-github",
        "colab_type": "text"
      },
      "source": [
        "<a href=\"https://colab.research.google.com/github/dongjin0521/voice-recognition/blob/main/Google_Colab%EC%97%90%EC%84%9C_Flask_%EB%B0%8F_React%EB%A1%9C_%EC%8B%A4%EC%8B%9C%EA%B0%84_%EC%9D%8C%EC%84%B1_%EC%9D%B8%EC%8B%9D_%EC%95%B1_%EC%8B%A4%ED%96%89%ED%95%98%EA%B8%B0.ipynb\" target=\"_parent\"><img src=\"https://colab.research.google.com/assets/colab-badge.svg\" alt=\"Open In Colab\"/></a>"
      ]
    },
    {
      "cell_type": "code",
      "execution_count": 2,
      "metadata": {
        "colab": {
          "base_uri": "https://localhost:8080/"
        },
        "id": "wG9Ec3iWzyIw",
        "outputId": "771aff14-eec6-4fc2-c040-9d809a5c6d71"
      },
      "outputs": [
        {
          "output_type": "stream",
          "name": "stdout",
          "text": [
            "Requirement already satisfied: flask in /usr/local/lib/python3.11/dist-packages (3.1.1)\n",
            "Requirement already satisfied: flask-cors in /usr/local/lib/python3.11/dist-packages (6.0.0)\n",
            "Requirement already satisfied: flask-sock in /usr/local/lib/python3.11/dist-packages (0.7.0)\n",
            "Requirement already satisfied: openai-whisper in /usr/local/lib/python3.11/dist-packages (20240930)\n",
            "Requirement already satisfied: pyngrok in /usr/local/lib/python3.11/dist-packages (7.2.8)\n",
            "Requirement already satisfied: soundfile in /usr/local/lib/python3.11/dist-packages (0.13.1)\n",
            "Requirement already satisfied: blinker>=1.9.0 in /usr/local/lib/python3.11/dist-packages (from flask) (1.9.0)\n",
            "Requirement already satisfied: click>=8.1.3 in /usr/local/lib/python3.11/dist-packages (from flask) (8.2.0)\n",
            "Requirement already satisfied: itsdangerous>=2.2.0 in /usr/local/lib/python3.11/dist-packages (from flask) (2.2.0)\n",
            "Requirement already satisfied: jinja2>=3.1.2 in /usr/local/lib/python3.11/dist-packages (from flask) (3.1.6)\n",
            "Requirement already satisfied: markupsafe>=2.1.1 in /usr/local/lib/python3.11/dist-packages (from flask) (3.0.2)\n",
            "Requirement already satisfied: werkzeug>=3.1.0 in /usr/local/lib/python3.11/dist-packages (from flask) (3.1.3)\n",
            "Requirement already satisfied: simple-websocket>=0.5.1 in /usr/local/lib/python3.11/dist-packages (from flask-sock) (1.1.0)\n",
            "Requirement already satisfied: numba in /usr/local/lib/python3.11/dist-packages (from openai-whisper) (0.60.0)\n",
            "Requirement already satisfied: numpy in /usr/local/lib/python3.11/dist-packages (from openai-whisper) (2.0.2)\n",
            "Requirement already satisfied: torch in /usr/local/lib/python3.11/dist-packages (from openai-whisper) (2.6.0+cu124)\n",
            "Requirement already satisfied: tqdm in /usr/local/lib/python3.11/dist-packages (from openai-whisper) (4.67.1)\n",
            "Requirement already satisfied: more-itertools in /usr/local/lib/python3.11/dist-packages (from openai-whisper) (10.7.0)\n",
            "Requirement already satisfied: tiktoken in /usr/local/lib/python3.11/dist-packages (from openai-whisper) (0.9.0)\n",
            "Requirement already satisfied: triton>=2.0.0 in /usr/local/lib/python3.11/dist-packages (from openai-whisper) (3.2.0)\n",
            "Requirement already satisfied: PyYAML>=5.1 in /usr/local/lib/python3.11/dist-packages (from pyngrok) (6.0.2)\n",
            "Requirement already satisfied: cffi>=1.0 in /usr/local/lib/python3.11/dist-packages (from soundfile) (1.17.1)\n",
            "Requirement already satisfied: pycparser in /usr/local/lib/python3.11/dist-packages (from cffi>=1.0->soundfile) (2.22)\n",
            "Requirement already satisfied: wsproto in /usr/local/lib/python3.11/dist-packages (from simple-websocket>=0.5.1->flask-sock) (1.2.0)\n",
            "Requirement already satisfied: llvmlite<0.44,>=0.43.0dev0 in /usr/local/lib/python3.11/dist-packages (from numba->openai-whisper) (0.43.0)\n",
            "Requirement already satisfied: regex>=2022.1.18 in /usr/local/lib/python3.11/dist-packages (from tiktoken->openai-whisper) (2024.11.6)\n",
            "Requirement already satisfied: requests>=2.26.0 in /usr/local/lib/python3.11/dist-packages (from tiktoken->openai-whisper) (2.32.3)\n",
            "Requirement already satisfied: filelock in /usr/local/lib/python3.11/dist-packages (from torch->openai-whisper) (3.18.0)\n",
            "Requirement already satisfied: typing-extensions>=4.10.0 in /usr/local/lib/python3.11/dist-packages (from torch->openai-whisper) (4.13.2)\n",
            "Requirement already satisfied: networkx in /usr/local/lib/python3.11/dist-packages (from torch->openai-whisper) (3.4.2)\n",
            "Requirement already satisfied: fsspec in /usr/local/lib/python3.11/dist-packages (from torch->openai-whisper) (2025.3.2)\n",
            "Requirement already satisfied: nvidia-cuda-nvrtc-cu12==12.4.127 in /usr/local/lib/python3.11/dist-packages (from torch->openai-whisper) (12.4.127)\n",
            "Requirement already satisfied: nvidia-cuda-runtime-cu12==12.4.127 in /usr/local/lib/python3.11/dist-packages (from torch->openai-whisper) (12.4.127)\n",
            "Requirement already satisfied: nvidia-cuda-cupti-cu12==12.4.127 in /usr/local/lib/python3.11/dist-packages (from torch->openai-whisper) (12.4.127)\n",
            "Requirement already satisfied: nvidia-cudnn-cu12==9.1.0.70 in /usr/local/lib/python3.11/dist-packages (from torch->openai-whisper) (9.1.0.70)\n",
            "Requirement already satisfied: nvidia-cublas-cu12==12.4.5.8 in /usr/local/lib/python3.11/dist-packages (from torch->openai-whisper) (12.4.5.8)\n",
            "Requirement already satisfied: nvidia-cufft-cu12==11.2.1.3 in /usr/local/lib/python3.11/dist-packages (from torch->openai-whisper) (11.2.1.3)\n",
            "Requirement already satisfied: nvidia-curand-cu12==10.3.5.147 in /usr/local/lib/python3.11/dist-packages (from torch->openai-whisper) (10.3.5.147)\n",
            "Requirement already satisfied: nvidia-cusolver-cu12==11.6.1.9 in /usr/local/lib/python3.11/dist-packages (from torch->openai-whisper) (11.6.1.9)\n",
            "Requirement already satisfied: nvidia-cusparse-cu12==12.3.1.170 in /usr/local/lib/python3.11/dist-packages (from torch->openai-whisper) (12.3.1.170)\n",
            "Requirement already satisfied: nvidia-cusparselt-cu12==0.6.2 in /usr/local/lib/python3.11/dist-packages (from torch->openai-whisper) (0.6.2)\n",
            "Requirement already satisfied: nvidia-nccl-cu12==2.21.5 in /usr/local/lib/python3.11/dist-packages (from torch->openai-whisper) (2.21.5)\n",
            "Requirement already satisfied: nvidia-nvtx-cu12==12.4.127 in /usr/local/lib/python3.11/dist-packages (from torch->openai-whisper) (12.4.127)\n",
            "Requirement already satisfied: nvidia-nvjitlink-cu12==12.4.127 in /usr/local/lib/python3.11/dist-packages (from torch->openai-whisper) (12.4.127)\n",
            "Requirement already satisfied: sympy==1.13.1 in /usr/local/lib/python3.11/dist-packages (from torch->openai-whisper) (1.13.1)\n",
            "Requirement already satisfied: mpmath<1.4,>=1.1.0 in /usr/local/lib/python3.11/dist-packages (from sympy==1.13.1->torch->openai-whisper) (1.3.0)\n",
            "Requirement already satisfied: charset-normalizer<4,>=2 in /usr/local/lib/python3.11/dist-packages (from requests>=2.26.0->tiktoken->openai-whisper) (3.4.2)\n",
            "Requirement already satisfied: idna<4,>=2.5 in /usr/local/lib/python3.11/dist-packages (from requests>=2.26.0->tiktoken->openai-whisper) (3.10)\n",
            "Requirement already satisfied: urllib3<3,>=1.21.1 in /usr/local/lib/python3.11/dist-packages (from requests>=2.26.0->tiktoken->openai-whisper) (2.4.0)\n",
            "Requirement already satisfied: certifi>=2017.4.17 in /usr/local/lib/python3.11/dist-packages (from requests>=2.26.0->tiktoken->openai-whisper) (2025.4.26)\n",
            "Requirement already satisfied: h11<1,>=0.9.0 in /usr/local/lib/python3.11/dist-packages (from wsproto->simple-websocket>=0.5.1->flask-sock) (0.16.0)\n"
          ]
        }
      ],
      "source": [
        "# 필요한 패키지 설치\n",
        "!pip install flask flask-cors flask-sock openai-whisper pyngrok soundfile"
      ]
    },
    {
      "cell_type": "code",
      "source": [
        "# ngrok 인증 설정\n",
        "!ngrok authtoken 2wQfjXuTJEjsFTjyjDUGWkTGRjT_zS6Npcoxp5iqENhHTdps  # 여기에 ngrok 인증 토큰을 입력하세요\n",
        "\n",
        "# ngrok 설치 확인\n",
        "!ngrok --version"
      ],
      "metadata": {
        "colab": {
          "base_uri": "https://localhost:8080/"
        },
        "id": "MNVyEEbSf9xt",
        "outputId": "72c8ae83-4090-468b-c8eb-c4a4afdb6764"
      },
      "execution_count": 3,
      "outputs": [
        {
          "output_type": "stream",
          "name": "stdout",
          "text": [
            "Authtoken saved to configuration file: /root/.config/ngrok/ngrok.yml\n",
            "ngrok version 3.22.1\n",
            "pyngrok version 7.2.8\n"
          ]
        }
      ]
    },
    {
      "cell_type": "code",
      "source": [
        "# 프로젝트 디렉토리 구조 생성\n",
        "!mkdir -p ./www"
      ],
      "metadata": {
        "id": "MNPsHm4f0bme"
      },
      "execution_count": 4,
      "outputs": []
    },
    {
      "cell_type": "code",
      "source": [
        "%%writefile app.py\n",
        "from flask import Flask, render_template\n",
        "from flask_cors import CORS\n",
        "from flask_sock import Sock\n",
        "import whisper\n",
        "import io\n",
        "\n",
        "app = Flask(__name__,\n",
        "    template_folder='./www',\n",
        "    static_folder='./www',\n",
        "    static_url_path='/'\n",
        ")\n",
        "CORS(app)  # 모든 도메인에서의 접근을 허용\n",
        "sock = Sock(app)\n",
        "model = whisper.load_model(\"base\")\n",
        "\n",
        "@app.route('/')\n",
        "def index():\n",
        "    return render_template('index.html')\n",
        "\n",
        "@sock.route('/audio')\n",
        "def handle_audio(ws):\n",
        "    while True:\n",
        "        data = ws.receive()\n",
        "        if data is None:\n",
        "            break\n",
        "\n",
        "        audio_stream = io.BytesIO(data)\n",
        "        audio_stream.seek(0)  # 스트림의 시작으로 이동\n",
        "\n",
        "        try:\n",
        "            # 오디오 데이터를 .wav 파일로 저장\n",
        "            with open('received_audio.wav', 'wb') as f:\n",
        "                f.write(audio_stream.read())\n",
        "\n",
        "            # Whisper 모델에 .wav 파일을 전달하여 인식\n",
        "            result = model.transcribe('received_audio.wav')\n",
        "            ws.send(result['text'])\n",
        "        except Exception as e:\n",
        "            print(f'Error: {e}')\n",
        "            ws.send('Error processing audio')\n",
        "\n",
        "if __name__ == \"__main__\":\n",
        "    app.run(host=\"0.0.0.0\", port=3000, debug=True)"
      ],
      "metadata": {
        "colab": {
          "base_uri": "https://localhost:8080/"
        },
        "id": "PyktAp6yk5Oc",
        "outputId": "e94f286a-d633-4c3a-a4b8-51f53884feac"
      },
      "execution_count": 6,
      "outputs": [
        {
          "output_type": "stream",
          "name": "stdout",
          "text": [
            "Overwriting app.py\n"
          ]
        }
      ]
    },
    {
      "cell_type": "code",
      "source": [
        "%%writefile www/index.html\n",
        "<!DOCTYPE html>\n",
        "<html lang=\"en\">\n",
        "<head>\n",
        "    <meta charset=\"UTF-8\">\n",
        "    <meta name=\"viewport\" content=\"width=device-width, initial-scale=1.0\">\n",
        "    <title>Audio Recorder</title>\n",
        "    <script src=\"https://unpkg.com/react@17/umd/react.development.js\"></script>\n",
        "    <script src=\"https://unpkg.com/react-dom@17/umd/react-dom.development.js\"></script>\n",
        "    <script src=\"https://unpkg.com/@mui/material@5.0.0/umd/material-ui.development.js\"></script>\n",
        "    <script src=\"https://unpkg.com/@babel/standalone/babel.min.js\"></script>\n",
        "    <link rel=\"stylesheet\" href=\"https://fonts.googleapis.com/css?family=Roboto:300,400,500,700&display=swap\" />\n",
        "    <link rel=\"stylesheet\" href=\"styles.css\">\n",
        "</head>\n",
        "<body>\n",
        "    <div id=\"root\"></div>\n",
        "    <script type=\"text/babel\" src=\"app.js\"></script>\n",
        "</body>\n",
        "</html>"
      ],
      "metadata": {
        "colab": {
          "base_uri": "https://localhost:8080/"
        },
        "id": "GvYUBDw4k6M3",
        "outputId": "b6621e30-5c0f-410a-b13a-e10f04042061"
      },
      "execution_count": 7,
      "outputs": [
        {
          "output_type": "stream",
          "name": "stdout",
          "text": [
            "Writing www/index.html\n"
          ]
        }
      ]
    },
    {
      "cell_type": "code",
      "source": [
        "%%writefile www/styles.css\n",
        "body {\n",
        "  margin: 0;\n",
        "  font-family: 'Roboto', sans-serif;\n",
        "}\n",
        "\n",
        ".container {\n",
        "  max-width: 800px;\n",
        "  margin: 0 auto;\n",
        "  padding: 16px;\n",
        "}\n",
        "\n",
        ".chat-bubble {\n",
        "  padding: 16px;\n",
        "  margin-bottom: 8px;\n",
        "  background-color: #f5f5f5;\n",
        "  border-radius: 4px;\n",
        "  word-break: break-word;\n",
        "}\n",
        "\n",
        ".transcription-container {\n",
        "  max-height: 300px;\n",
        "  overflow-y: auto;\n",
        "  margin-top: 16px;\n",
        "}"
      ],
      "metadata": {
        "colab": {
          "base_uri": "https://localhost:8080/"
        },
        "id": "xY87f1jbk8oX",
        "outputId": "2e0a6e42-78ae-4e6b-cf4d-5183fe983998"
      },
      "execution_count": 8,
      "outputs": [
        {
          "output_type": "stream",
          "name": "stdout",
          "text": [
            "Writing www/styles.css\n"
          ]
        }
      ]
    },
    {
      "cell_type": "code",
      "source": [
        "%%writefile www/app.js\n",
        "const { useState, useRef, useEffect } = React;\n",
        "const {\n",
        "  AppBar, Toolbar, Typography, Button, Container, Box, Paper, TextField\n",
        "} = MaterialUI;\n",
        "\n",
        "function App() {\n",
        "  const [isRecording, setIsRecording] = useState(false);\n",
        "  const [transcriptions, setTranscriptions] = useState([]);\n",
        "  const mediaRecorderRef = useRef(null);\n",
        "  const audioChunksRef = useRef([]);\n",
        "  const socketRef = useRef(null);\n",
        "  const getDefaultWebsocketUrl = () => {\n",
        "  const protocol = window.location.protocol === 'https:' ? 'wss:' : 'ws:';\n",
        "  const host = window.location.host;\n",
        "  return `${protocol}//${host}/audio`;\n",
        "};\n",
        "\n",
        "const [websocketUrl, setWebsocketUrl] = useState(getDefaultWebsocketUrl());\n",
        "\n",
        "\n",
        "  const handleWebSocketUrlChange = (event) => {\n",
        "    setWebsocketUrl(event.target.value);\n",
        "  };\n",
        "\n",
        "  const handleStartRecording = async () => {\n",
        "    const stream = await navigator.mediaDevices.getUserMedia({ audio: true });\n",
        "    mediaRecorderRef.current = new MediaRecorder(stream);\n",
        "\n",
        "    mediaRecorderRef.current.ondataavailable = (event) => {\n",
        "      audioChunksRef.current.push(event.data);\n",
        "    };\n",
        "\n",
        "    mediaRecorderRef.current.onstop = () => {\n",
        "      sendAudioData();\n",
        "    };\n",
        "\n",
        "    mediaRecorderRef.current.start();\n",
        "    setIsRecording(true);\n",
        "  };\n",
        "\n",
        "  const handleStopRecording = () => {\n",
        "    if (mediaRecorderRef.current) {\n",
        "      mediaRecorderRef.current.stop();\n",
        "      setIsRecording(false);\n",
        "    }\n",
        "  };\n",
        "\n",
        "  const sendAudioData = () => {\n",
        "    const audioBlob = new Blob(audioChunksRef.current, { type: 'audio/wav' });\n",
        "    const reader = new FileReader();\n",
        "    reader.onloadend = () => {\n",
        "      const audioArrayBuffer = reader.result;\n",
        "      if (socketRef.current && socketRef.current.readyState === WebSocket.OPEN) {\n",
        "        socketRef.current.send(audioArrayBuffer);\n",
        "      }\n",
        "      audioChunksRef.current = [];\n",
        "    };\n",
        "    reader.readAsArrayBuffer(audioBlob);\n",
        "  };\n",
        "\n",
        "  const setupWebSocket = () => {\n",
        "    socketRef.current = new WebSocket(websocketUrl);\n",
        "\n",
        "    socketRef.current.onopen = () => {\n",
        "      console.log('WebSocket is connected.');\n",
        "    };\n",
        "\n",
        "    socketRef.current.onmessage = (event) => {\n",
        "      setTranscriptions((prev) => [...prev, event.data]);\n",
        "    };\n",
        "\n",
        "    socketRef.current.onclose = (event) => {\n",
        "      console.log('WebSocket is closed.', event);\n",
        "    };\n",
        "\n",
        "    socketRef.current.onerror = (error) => {\n",
        "      console.log('WebSocket error:', error);\n",
        "    };\n",
        "  };\n",
        "\n",
        "  useEffect(() => {\n",
        "    setupWebSocket();\n",
        "    return () => {\n",
        "      if (socketRef.current) {\n",
        "        socketRef.current.close();\n",
        "      }\n",
        "    };\n",
        "  }, [websocketUrl]);\n",
        "\n",
        "  return React.createElement(\n",
        "    Container,\n",
        "    null,\n",
        "    React.createElement(\n",
        "      AppBar,\n",
        "      { position: 'static' },\n",
        "      React.createElement(\n",
        "        Toolbar,\n",
        "        null,\n",
        "        React.createElement(Typography, { variant: 'h6' }, \"Audio Recorder\")\n",
        "      )\n",
        "    ),\n",
        "    React.createElement(\n",
        "      Box,\n",
        "      { mt: 2 },\n",
        "      React.createElement(TextField, {\n",
        "        label: \"WebSocket URL\",\n",
        "        variant: \"outlined\",\n",
        "        fullWidth: true,\n",
        "        value: websocketUrl,\n",
        "        onChange: handleWebSocketUrlChange,\n",
        "        style: { marginBottom: 16 }\n",
        "      }),\n",
        "      React.createElement(\n",
        "        Button,\n",
        "        {\n",
        "          variant: 'contained',\n",
        "          color: 'primary',\n",
        "          onClick: handleStartRecording,\n",
        "          disabled: isRecording\n",
        "        },\n",
        "        \"Start Recording\"\n",
        "      ),\n",
        "      React.createElement(\n",
        "        Button,\n",
        "        {\n",
        "          variant: 'contained',\n",
        "          color: 'secondary',\n",
        "          onClick: handleStopRecording,\n",
        "          disabled: !isRecording,\n",
        "          style: { marginLeft: 16 }\n",
        "        },\n",
        "        \"Stop Recording\"\n",
        "      )\n",
        "    ),\n",
        "    React.createElement(\n",
        "      'div',\n",
        "      { className: 'transcription-container' },\n",
        "      transcriptions.map((text, index) =>\n",
        "        React.createElement(\n",
        "          'div',\n",
        "          {\n",
        "            key: index,\n",
        "            className: 'chat-bubble'\n",
        "          },\n",
        "          text\n",
        "        )\n",
        "      )\n",
        "    )\n",
        "  );\n",
        "}\n",
        "\n",
        "ReactDOM.render(\n",
        "  React.createElement(App),\n",
        "  document.getElementById('root')\n",
        ");"
      ],
      "metadata": {
        "colab": {
          "base_uri": "https://localhost:8080/"
        },
        "id": "z1uYXop-k-MX",
        "outputId": "70cbb4b1-250f-45c5-ca5c-d01879bcfd72"
      },
      "execution_count": 14,
      "outputs": [
        {
          "output_type": "stream",
          "name": "stdout",
          "text": [
            "Overwriting www/app.js\n"
          ]
        }
      ]
    },
    {
      "cell_type": "code",
      "source": [
        "# Python 스크립트로 서버 백그라운드에서 실행\n",
        "%%writefile run_server.py\n",
        "import subprocess\n",
        "import time\n",
        "from pyngrok import ngrok\n",
        "\n",
        "# Flask 서버 시작\n",
        "server_process = subprocess.Popen([\"python\", \"app.py\"])\n",
        "print(\"Flask 서버가 시작되었습니다.\")\n",
        "\n",
        "# ngrok 터널 생성\n",
        "http_tunnel = ngrok.connect(3000)\n",
        "print(f\"ngrok 터널이 생성되었습니다: {http_tunnel.public_url}\")\n",
        "\n",
        "try:\n",
        "    # 앱이 계속 실행되도록 대기\n",
        "    while True:\n",
        "        time.sleep(1)\n",
        "except KeyboardInterrupt:\n",
        "    # 종료 시 프로세스 정리\n",
        "    server_process.terminate()\n",
        "    ngrok.kill()\n",
        "\n",
        "# 이 코드는 Colab이 계속 실행 중일 때만 작동합니다"
      ],
      "metadata": {
        "colab": {
          "base_uri": "https://localhost:8080/"
        },
        "id": "3Oj1CSHpk_IQ",
        "outputId": "0898dc41-ba38-4718-cc16-6b235bbe2f8c"
      },
      "execution_count": 10,
      "outputs": [
        {
          "output_type": "stream",
          "name": "stdout",
          "text": [
            "Writing run_server.py\n"
          ]
        }
      ]
    },
    {
      "cell_type": "code",
      "source": [
        "\n"
      ],
      "metadata": {
        "id": "3qEdk1QBlCO7"
      },
      "execution_count": null,
      "outputs": []
    },
    {
      "cell_type": "code",
      "source": [
        "!python run_server.py"
      ],
      "metadata": {
        "colab": {
          "base_uri": "https://localhost:8080/"
        },
        "id": "xBaGkp-olCQk",
        "outputId": "24b80922-3391-470c-9b10-a3f3482645e4"
      },
      "execution_count": 12,
      "outputs": [
        {
          "output_type": "stream",
          "name": "stdout",
          "text": [
            "Flask 서버가 시작되었습니다.\n",
            "ngrok 터널이 생성되었습니다: https://4e30-34-42-221-7.ngrok-free.app\n",
            " * Serving Flask app 'app'\n",
            " * Debug mode: on\n",
            "\u001b[31m\u001b[1mWARNING: This is a development server. Do not use it in a production deployment. Use a production WSGI server instead.\u001b[0m\n",
            " * Running on all addresses (0.0.0.0)\n",
            " * Running on http://127.0.0.1:3000\n",
            " * Running on http://172.28.0.12:3000\n",
            "\u001b[33mPress CTRL+C to quit\u001b[0m\n",
            " * Restarting with stat\n",
            " * Debugger is active!\n",
            " * Debugger PIN: 347-788-323\n",
            "127.0.0.1 - - [27/May/2025 06:22:47] \"GET / HTTP/1.1\" 200 -\n",
            "127.0.0.1 - - [27/May/2025 06:22:48] \"GET /styles.css HTTP/1.1\" 200 -\n",
            "127.0.0.1 - - [27/May/2025 06:22:48] \"GET /app.js HTTP/1.1\" 200 -\n",
            "^C\n"
          ]
        }
      ]
    },
    {
      "cell_type": "code",
      "source": [
        "!pip install pyngrok\n"
      ],
      "metadata": {
        "colab": {
          "base_uri": "https://localhost:8080/"
        },
        "id": "mzCacUBan09-",
        "outputId": "0ec7093e-83a3-4684-a62e-7e3640b4af43"
      },
      "execution_count": null,
      "outputs": [
        {
          "output_type": "stream",
          "name": "stdout",
          "text": [
            "Collecting pyngrok\n",
            "  Downloading pyngrok-7.2.8-py3-none-any.whl.metadata (10 kB)\n",
            "Requirement already satisfied: PyYAML>=5.1 in /usr/local/lib/python3.11/dist-packages (from pyngrok) (6.0.2)\n",
            "Downloading pyngrok-7.2.8-py3-none-any.whl (25 kB)\n",
            "Installing collected packages: pyngrok\n",
            "Successfully installed pyngrok-7.2.8\n"
          ]
        }
      ]
    },
    {
      "cell_type": "code",
      "source": [
        "!python run_server.py\n"
      ],
      "metadata": {
        "colab": {
          "base_uri": "https://localhost:8080/"
        },
        "id": "x0F-5cmcn1AA",
        "outputId": "f0377b62-34b9-4901-8d7e-5d9194924181"
      },
      "execution_count": null,
      "outputs": [
        {
          "output_type": "stream",
          "name": "stdout",
          "text": [
            "Flask 서버가 시작되었습니다.\n",
            "ngrok 터널이 생성되었습니다: https://7bd9-34-42-221-7.ngrok-free.app\n",
            " * Serving Flask app 'app'\n",
            " * Debug mode: on\n",
            "\u001b[31m\u001b[1mWARNING: This is a development server. Do not use it in a production deployment. Use a production WSGI server instead.\u001b[0m\n",
            " * Running on all addresses (0.0.0.0)\n",
            " * Running on http://127.0.0.1:3000\n",
            " * Running on http://172.28.0.12:3000\n",
            "\u001b[33mPress CTRL+C to quit\u001b[0m\n",
            " * Restarting with stat\n",
            " * Debugger is active!\n",
            " * Debugger PIN: 347-788-323\n",
            "127.0.0.1 - - [27/May/2025 06:26:33] \"GET / HTTP/1.1\" 200 -\n",
            "127.0.0.1 - - [27/May/2025 06:26:34] \"GET /styles.css HTTP/1.1\" 200 -\n",
            "127.0.0.1 - - [27/May/2025 06:26:34] \"GET /app.js HTTP/1.1\" 200 -\n",
            "/usr/local/lib/python3.11/dist-packages/whisper/transcribe.py:126: UserWarning: FP16 is not supported on CPU; using FP32 instead\n",
            "  warnings.warn(\"FP16 is not supported on CPU; using FP32 instead\")\n",
            "/usr/local/lib/python3.11/dist-packages/whisper/transcribe.py:126: UserWarning: FP16 is not supported on CPU; using FP32 instead\n",
            "  warnings.warn(\"FP16 is not supported on CPU; using FP32 instead\")\n",
            "127.0.0.1 - - [27/May/2025 06:32:21] \"GET /audio HTTP/1.1\" 200 -\n"
          ]
        }
      ]
    }
  ]
}